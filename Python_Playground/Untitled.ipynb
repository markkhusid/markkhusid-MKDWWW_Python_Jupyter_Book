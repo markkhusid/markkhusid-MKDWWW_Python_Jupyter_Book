{
 "cells": [
  {
   "cell_type": "code",
   "execution_count": null,
   "id": "8576de68-2909-4c17-9208-e636e7a94f91",
   "metadata": {},
   "outputs": [],
   "source": []
  }
 ],
 "metadata": {
  "kernelspec": {
   "display_name": "intel fortran",
   "language": "Fortran",
   "name": "ifort_spec"
  },
  "language_info": {
   "name": ""
  }
 },
 "nbformat": 4,
 "nbformat_minor": 5
}
