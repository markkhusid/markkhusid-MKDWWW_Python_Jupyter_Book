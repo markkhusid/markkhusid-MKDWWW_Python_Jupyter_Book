{
 "cells": [
  {
   "cell_type": "raw",
   "id": "da69630d-57d9-48af-a290-4455f068216d",
   "metadata": {},
   "source": [
    "---\n",
    "jupytext:\n",
    "  formats: md:myst\n",
    "  text_representation:\n",
    "    extension: .md\n",
    "    format_name: myst\n",
    "kernelspec:\n",
    "  display_name: Python 3\n",
    "  language: python\n",
    "  name: python3\n",
    "---"
   ]
  },
  {
   "attachments": {},
   "cell_type": "markdown",
   "id": "29b3d245-0fe5-48e2-b541-9f88191c3848",
   "metadata": {},
   "source": [
    "# Python Playground: Geeky Projects for the Curious Programmer"
   ]
  },
  {
   "attachments": {},
   "cell_type": "markdown",
   "id": "abe9d740-1196-4fe9-ad37-5357cd042142",
   "metadata": {
    "tags": []
   },
   "source": [
    "In this section we will be following along with the examples from [\"Python Playground: Geeky Projects for the Curious Programmer\"](https://www.amazon.com/Python-Playground-2nd-Mahesh-Venkitachalam/dp/1718503040/ref=sr_1_4?keywords=python+playground&sr=8-4) by Mahesh Venkitachalam (No Starch Press). We will use Jupyter Lab to facilitate creation of this Jupyter Book."
   ]
  },
  {
   "attachments": {},
   "cell_type": "markdown",
   "id": "a18d124c",
   "metadata": {},
   "source": [
    "```{tableofcontents}\n",
    "```"
   ]
  }
 ],
 "metadata": {
  "kernelspec": {
   "display_name": "Python 3 (ipykernel)",
   "language": "python",
   "name": "python3"
  },
  "language_info": {
   "codemirror_mode": {
    "name": "ipython",
    "version": 3
   },
   "file_extension": ".py",
   "mimetype": "text/x-python",
   "name": "python",
   "nbconvert_exporter": "python",
   "pygments_lexer": "ipython3",
   "version": "3.10.13"
  },
  "vscode": {
   "interpreter": {
    "hash": "916dbcbb3f70747c44a77c7bcd40155683ae19c65e1c03b4aa3499c5328201f1"
   }
  }
 },
 "nbformat": 4,
 "nbformat_minor": 5
}
