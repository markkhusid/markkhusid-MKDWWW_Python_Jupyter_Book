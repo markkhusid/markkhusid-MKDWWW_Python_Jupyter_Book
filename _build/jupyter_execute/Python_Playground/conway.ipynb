{
 "cells": [
  {
   "cell_type": "raw",
   "metadata": {},
   "source": [
    "---\n",
    "jupytext:\n",
    "  formats: md:myst\n",
    "  text_representation:\n",
    "    extension: .md\n",
    "    format_name: myst\n",
    "kernelspec:\n",
    "  display_name: Python 3\n",
    "  language: python\n",
    "  name: python3\n",
    "---"
   ]
  },
  {
   "attachments": {},
   "cell_type": "markdown",
   "id": "fc63b62e-3ea6-4588-8b6e-f845bbc6d64c",
   "metadata": {
    "tags": []
   },
   "source": [
    "# Chapter 3: Conway's Game of Life"
   ]
  },
  {
   "attachments": {},
   "cell_type": "markdown",
   "id": "edfc7d7e-9803-4b96-82f1-bc0d47385f43",
   "metadata": {},
   "source": [
    "Adapted from: \"Python Playground: Geeky Projects for the Curious Programmer\" by Mahesh  Venkitachalam (No Starch Press)"
   ]
  },
  {
   "attachments": {},
   "cell_type": "markdown",
   "id": "59ec1bec-3fd7-4061-aa24-c7765d25786f",
   "metadata": {},
   "source": [
    "## Program to run Conway's Game of Life"
   ]
  },
  {
   "cell_type": "code",
   "execution_count": 1,
   "metadata": {},
   "outputs": [],
   "source": [
    "%matplotlib inline\n",
    "import numpy as np\n",
    "import matplotlib.pyplot as plt\n",
    "import matplotlib.animation as animation\n",
    "from IPython.display import HTML"
   ]
  },
  {
   "cell_type": "code",
   "execution_count": 2,
   "metadata": {},
   "outputs": [],
   "source": [
    "# Define constants\n",
    "ON = 255\n",
    "OFF = 0\n",
    "vals = [ON, OFF]"
   ]
  },
  {
   "cell_type": "code",
   "execution_count": 3,
   "metadata": {},
   "outputs": [],
   "source": [
    "def randomGrid(N):\n",
    "    \"\"\" returns a grid of N x N values \"\"\"\n",
    "    return np.random.choice(vals, N*N, p=[0.2, 0.8]).reshape(N, N)"
   ]
  },
  {
   "cell_type": "code",
   "execution_count": 4,
   "metadata": {},
   "outputs": [],
   "source": [
    "def addGlider(i, j, grid):\n",
    "    \"\"\" adds a glider with top-left cell at (i, j)\"\"\"\n",
    "    glider = np.array([[0, 0, 255],\n",
    "                       [255, 0, 255],\n",
    "                       [0, 255, 255]])\n",
    "    grid[i:i+3, j:j+3] = glider"
   ]
  },
  {
   "cell_type": "code",
   "execution_count": 5,
   "metadata": {},
   "outputs": [],
   "source": [
    "def update(framenum, img, grid, N):\n",
    "    # copy grid since we require 8 neighbors for calculation\n",
    "    # and we go line by line\n",
    "    newGrid = grid.copy()\n",
    "    for i in range(N):\n",
    "        for j in range(N):\n",
    "            # compute 8-neighbor sum using toroidal boundary conditions\n",
    "            # x and y wrap around so that the simulation\n",
    "            # takes place on a toroidal surface\n",
    "            total = int((grid[i, (j-1)%N] + grid[i, (j+1)%N] +\n",
    "                         grid[(i-1)%N, j] + grid[(i+1)%N, j] +\n",
    "                         grid[(i-1)%N, (j-1)%N] + grid[(i-1)%N, (j+1)%N] +\n",
    "                         grid[(i+1)%N, (j-1)%N] + grid[(i+1)%N, (j+1)%N])/255)\n",
    "            # apply Conway's rules\n",
    "            if grid[i, j] == ON:\n",
    "                if (total < 2) or (total > 3):\n",
    "                    newGrid[i, j] = OFF\n",
    "            else:\n",
    "                if total == 3:\n",
    "                    newGrid[i, j] = ON\n",
    "    # update data\n",
    "    img.set_data(newGrid)\n",
    "    grid[:] = newGrid[:]\n",
    "    return img,"
   ]
  },
  {
   "cell_type": "code",
   "execution_count": 6,
   "metadata": {},
   "outputs": [],
   "source": [
    "# Set Grid Size (N)\n",
    "N = 100"
   ]
  },
  {
   "cell_type": "code",
   "execution_count": 7,
   "metadata": {},
   "outputs": [],
   "source": [
    "# Set Update Interval (updateInterval)\n",
    "updateInterval = 50"
   ]
  },
  {
   "cell_type": "code",
   "execution_count": 8,
   "metadata": {},
   "outputs": [],
   "source": [
    "# Declare Grid\n",
    "grid = np.array([])"
   ]
  },
  {
   "cell_type": "code",
   "execution_count": 9,
   "metadata": {},
   "outputs": [],
   "source": [
    "# populate grid with random on/off - more off than on\n",
    "grid = randomGrid(N)"
   ]
  },
  {
   "cell_type": "code",
   "execution_count": 10,
   "metadata": {},
   "outputs": [
    {
     "data": {
      "image/png": "[encoded data removed]",
      "text/plain": [
       "<Figure size 1280x960 with 1 Axes>"
      ]
     },
     "metadata": {
      "filenames": {
       "image/png": "/home/haxor/Documents/Engineering/markkhusid-MKDWWW_Python_Jupyter_Book/_build/jupyter_execute/Python_Playground/conway_13_0.png"
      }
     },
     "output_type": "display_data"
    }
   ],
   "source": [
    "# set up the animation\n",
    "fig, ax = plt.subplots()\n",
    "fig.dpi = 200\n",
    "img = ax.imshow(grid, interpolation='nearest')\n",
    "# I changed the number of frames from 10 to 100 in the next line.\n",
    "ani = animation.FuncAnimation(fig, update, fargs=(img, grid, N, ),\n",
    "                            frames = 500,\n",
    "                            interval = updateInterval,\n",
    "                            save_count = 50)"
   ]
  },
  {
   "cell_type": "code",
   "execution_count": 11,
   "metadata": {},
   "outputs": [],
   "source": [
    "# number of frames?\n",
    "# set the output file\n",
    "# I added the next two lines to get script to work.\n",
    "Writer = animation.writers['ffmpeg']\n",
    "writer = Writer(fps=15, metadata=dict(artist='Me'), bitrate=1800)"
   ]
  },
  {
   "cell_type": "code",
   "execution_count": 12,
   "metadata": {},
   "outputs": [],
   "source": [
    "# Show the animation\n",
    "#plt.show()"
   ]
  },
  {
   "cell_type": "code",
   "execution_count": 13,
   "metadata": {},
   "outputs": [],
   "source": [
    "#HTML(ani.to_jshtml())"
   ]
  },
  {
   "cell_type": "code",
   "execution_count": 14,
   "metadata": {},
   "outputs": [],
   "source": [
    "#HTML(ani.to_html5_video())"
   ]
  }
 ],
 "metadata": {
  "kernelspec": {
   "display_name": "base",
   "language": "python",
   "name": "python3"
  },
  "language_info": {
   "codemirror_mode": {
    "name": "ipython",
    "version": 3
   },
   "file_extension": ".py",
   "mimetype": "text/x-python",
   "name": "python",
   "nbconvert_exporter": "python",
   "pygments_lexer": "ipython3",
   "version": "3.9.15"
  },
  "vscode": {
   "interpreter": {
    "hash": "1c7edbfe09241e3ab70fdbaa9340a6c53382c0b8a91b6341e8f1e4440b6e3c70"
   }
  }
 },
 "nbformat": 4,
 "nbformat_minor": 2
}